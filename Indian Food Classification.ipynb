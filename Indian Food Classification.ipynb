{
 "cells": [
  {
   "cell_type": "markdown",
   "metadata": {},
   "source": [
    "# importing library"
   ]
  },
  {
   "cell_type": "code",
   "execution_count": 1,
   "metadata": {},
   "outputs": [
    {
     "name": "stderr",
     "output_type": "stream",
     "text": [
      "Using TensorFlow backend.\n"
     ]
    }
   ],
   "source": [
    "from __future__ import print_function\n",
    "import keras\n",
    "from keras.datasets import mnist\n",
    "from keras.models import Sequential\n",
    "from keras.layers import Dense, Dropout, Flatten\n",
    "from keras.layers import Conv2D, MaxPooling2D\n",
    "from keras import backend as K\n",
    "from keras.utils import plot_model\n",
    "from PIL import Image , ImageOps\n",
    "import random\n",
    "import os\n",
    "import math\n",
    "import numpy as np"
   ]
  },
  {
   "cell_type": "markdown",
   "metadata": {},
   "source": [
    "# Creating train and test set"
   ]
  },
  {
   "cell_type": "code",
   "execution_count": null,
   "metadata": {},
   "outputs": [
    {
     "name": "stdout",
     "output_type": "stream",
     "text": [
      "1  177\n",
      "10  323\n",
      "11  466\n",
      "12  1741\n",
      "13  206\n",
      "14  568\n",
      "15  248\n",
      "16  279\n",
      "17  207\n",
      "18  714\n",
      "19  LoL\n",
      "273\n",
      "2  573\n",
      "20  374\n",
      "3  653\n",
      "4  373\n",
      "5  383\n",
      "6  "
     ]
    }
   ],
   "source": [
    "# Creation of Test data\n",
    "\n",
    "input_folder = './ResizedImg'\n",
    "\n",
    "x_train =[]\n",
    "y_train =[]\n",
    "x_test  =[]\n",
    "y_test  =[]\n",
    "\n",
    "percent = 0.6\n",
    "\n",
    "for classes in os.listdir(input_folder):\n",
    "    print(classes,' ',end = '')\n",
    "    imagePath = input_folder+'/'+classes\n",
    "    class_data = []\n",
    "    for images in os.listdir(imagePath):\n",
    "        try:\n",
    "            im = Image.open(imagePath+'/'+images)\n",
    "            imgMat = np.array(im)\n",
    "            if imgMat.shape == (224,224,3): \n",
    "                class_data.append(imgMat)\n",
    "        except:\n",
    "            print('LoL')\n",
    "    print(len(class_data))\n",
    "    sizeofclass = len(class_data)\n",
    "    \n",
    "    num_of_Train_exp = math.floor(sizeofclass*(percent))\n",
    "    \n",
    "    X_train = class_data[0:num_of_Train_exp]\n",
    "    X_test = class_data[num_of_Train_exp:]\n",
    "    \n",
    "    Y_train = [int(classes)-1]*len(X_train)\n",
    "    Y_test = [int(classes)-1]*len(X_test)\n",
    "    \n",
    "    x_train = x_train + X_train\n",
    "    y_train = y_train + Y_train\n",
    "    x_test = x_test + X_test\n",
    "    y_test = y_test + Y_test\n",
    "\n",
    "del X_train\n",
    "del Y_train\n",
    "del X_test\n",
    "del Y_test\n",
    "\n"
   ]
  },
  {
   "cell_type": "code",
   "execution_count": 39,
   "metadata": {},
   "outputs": [
    {
     "name": "stdout",
     "output_type": "stream",
     "text": [
      "5755\n",
      "5755\n",
      "3857\n",
      "3857\n"
     ]
    }
   ],
   "source": [
    "print(len(x_train))\n",
    "print(len(y_train))\n",
    "\n",
    "print(len(x_test))\n",
    "print(len(y_test))\n"
   ]
  },
  {
   "cell_type": "code",
   "execution_count": 16,
   "metadata": {},
   "outputs": [],
   "source": [
    "# x_train_F = [item for sublist in x_train for item in sublist]\n",
    "# y_train_F = [item for sublist in y_train for item in sublist]\n",
    "# x_test_F  = [item for sublist in x_test for item in sublist]\n",
    "# y_test_F  = [item for sublist in y_test for item in sublist]"
   ]
  },
  {
   "cell_type": "code",
   "execution_count": 40,
   "metadata": {},
   "outputs": [],
   "source": [
    "a = list(zip(x_train,y_train))\n",
    "random.shuffle(a)\n",
    "x_train , y_train = zip(*a)\n",
    "\n",
    "a = list(zip(x_test,y_test))\n",
    "random.shuffle(a)\n",
    "x_test , y_test = zip(*a)\n",
    "del a"
   ]
  },
  {
   "cell_type": "code",
   "execution_count": 41,
   "metadata": {},
   "outputs": [],
   "source": [
    "x_train = np.array(list(x_train), dtype=np.float32)\n",
    "y_train = np.array(list(y_train), dtype=np.float32)\n",
    "x_test  = np.array(list(x_test), dtype=np.float32)\n",
    "y_test  = np.array(list(y_test), dtype=np.float32)\n",
    "\n"
   ]
  },
  {
   "cell_type": "markdown",
   "metadata": {},
   "source": [
    "# Normalization"
   ]
  },
  {
   "cell_type": "code",
   "execution_count": 44,
   "metadata": {},
   "outputs": [],
   "source": [
    "x_train /= 255;\n",
    "x_test /= 255;"
   ]
  },
  {
   "cell_type": "markdown",
   "metadata": {},
   "source": [
    "# CNN Architecture"
   ]
  },
  {
   "cell_type": "code",
   "execution_count": 65,
   "metadata": {},
   "outputs": [
    {
     "name": "stdout",
     "output_type": "stream",
     "text": [
      "_________________________________________________________________\n",
      "Layer (type)                 Output Shape              Param #   \n",
      "=================================================================\n",
      "conv2d_35 (Conv2D)           (None, 224, 224, 6)       168       \n",
      "_________________________________________________________________\n",
      "max_pooling2d_34 (MaxPooling (None, 112, 112, 6)       0         \n",
      "_________________________________________________________________\n",
      "conv2d_36 (Conv2D)           (None, 110, 110, 20)      1100      \n",
      "_________________________________________________________________\n",
      "max_pooling2d_35 (MaxPooling (None, 55, 55, 20)        0         \n",
      "_________________________________________________________________\n",
      "conv2d_37 (Conv2D)           (None, 55, 55, 9)         189       \n",
      "_________________________________________________________________\n",
      "max_pooling2d_36 (MaxPooling (None, 11, 11, 9)         0         \n",
      "_________________________________________________________________\n",
      "flatten_12 (Flatten)         (None, 1089)              0         \n",
      "_________________________________________________________________\n",
      "dense_34 (Dense)             (None, 1089)              1187010   \n",
      "_________________________________________________________________\n",
      "dense_35 (Dense)             (None, 400)               436000    \n",
      "_________________________________________________________________\n",
      "dense_36 (Dense)             (None, 20)                8020      \n",
      "=================================================================\n",
      "Total params: 1,632,487\n",
      "Trainable params: 1,632,487\n",
      "Non-trainable params: 0\n",
      "_________________________________________________________________\n"
     ]
    },
    {
     "ename": "ValueError",
     "evalue": "Error when checking target: expected dense_36 to have shape (20,) but got array with shape (21,)",
     "output_type": "error",
     "traceback": [
      "\u001b[1;31m---------------------------------------------------------------------------\u001b[0m",
      "\u001b[1;31mValueError\u001b[0m                                Traceback (most recent call last)",
      "\u001b[1;32m<ipython-input-65-e1845d8042f6>\u001b[0m in \u001b[0;36m<module>\u001b[1;34m\u001b[0m\n\u001b[0;32m     36\u001b[0m \u001b[0mmodel\u001b[0m\u001b[1;33m.\u001b[0m\u001b[0mcompile\u001b[0m\u001b[1;33m(\u001b[0m\u001b[0mloss\u001b[0m\u001b[1;33m=\u001b[0m\u001b[0mkeras\u001b[0m\u001b[1;33m.\u001b[0m\u001b[0mlosses\u001b[0m\u001b[1;33m.\u001b[0m\u001b[0mcategorical_crossentropy\u001b[0m\u001b[1;33m,\u001b[0m\u001b[0moptimizer\u001b[0m\u001b[1;33m=\u001b[0m\u001b[0mkeras\u001b[0m\u001b[1;33m.\u001b[0m\u001b[0moptimizers\u001b[0m\u001b[1;33m.\u001b[0m\u001b[0mAdadelta\u001b[0m\u001b[1;33m(\u001b[0m\u001b[1;33m)\u001b[0m\u001b[1;33m,\u001b[0m\u001b[0mmetrics\u001b[0m\u001b[1;33m=\u001b[0m\u001b[1;33m[\u001b[0m\u001b[1;34m'accuracy'\u001b[0m\u001b[1;33m]\u001b[0m\u001b[1;33m)\u001b[0m\u001b[1;33m\u001b[0m\u001b[1;33m\u001b[0m\u001b[0m\n\u001b[0;32m     37\u001b[0m \u001b[1;33m\u001b[0m\u001b[0m\n\u001b[1;32m---> 38\u001b[1;33m \u001b[0mmodel\u001b[0m\u001b[1;33m.\u001b[0m\u001b[0mfit\u001b[0m\u001b[1;33m(\u001b[0m\u001b[0mx_train\u001b[0m\u001b[1;33m,\u001b[0m \u001b[0my_train\u001b[0m\u001b[1;33m,\u001b[0m\u001b[0mbatch_size\u001b[0m\u001b[1;33m=\u001b[0m\u001b[0mbatch_size\u001b[0m\u001b[1;33m,\u001b[0m\u001b[0mepochs\u001b[0m\u001b[1;33m=\u001b[0m\u001b[0mepochs\u001b[0m\u001b[1;33m,\u001b[0m\u001b[0mverbose\u001b[0m\u001b[1;33m=\u001b[0m\u001b[1;36m1\u001b[0m\u001b[1;33m,\u001b[0m\u001b[0mvalidation_data\u001b[0m\u001b[1;33m=\u001b[0m\u001b[1;33m(\u001b[0m\u001b[0mx_test\u001b[0m\u001b[1;33m,\u001b[0m \u001b[0my_test\u001b[0m\u001b[1;33m)\u001b[0m\u001b[1;33m)\u001b[0m\u001b[1;33m\u001b[0m\u001b[1;33m\u001b[0m\u001b[0m\n\u001b[0m\u001b[0;32m     39\u001b[0m \u001b[0mscore\u001b[0m \u001b[1;33m=\u001b[0m \u001b[0mmodel\u001b[0m\u001b[1;33m.\u001b[0m\u001b[0mevaluate\u001b[0m\u001b[1;33m(\u001b[0m\u001b[0mx_test\u001b[0m\u001b[1;33m,\u001b[0m \u001b[0my_test\u001b[0m\u001b[1;33m,\u001b[0m \u001b[0mverbose\u001b[0m\u001b[1;33m=\u001b[0m\u001b[1;36m0\u001b[0m\u001b[1;33m)\u001b[0m\u001b[1;33m\u001b[0m\u001b[1;33m\u001b[0m\u001b[0m\n\u001b[0;32m     40\u001b[0m \u001b[0mprint\u001b[0m\u001b[1;33m(\u001b[0m\u001b[1;34m'Test loss:'\u001b[0m\u001b[1;33m,\u001b[0m \u001b[0mscore\u001b[0m\u001b[1;33m[\u001b[0m\u001b[1;36m0\u001b[0m\u001b[1;33m]\u001b[0m\u001b[1;33m)\u001b[0m\u001b[1;33m\u001b[0m\u001b[1;33m\u001b[0m\u001b[0m\n",
      "\u001b[1;32m~\\Anaconda3\\envs\\AdvanceCV\\lib\\site-packages\\keras\\engine\\training.py\u001b[0m in \u001b[0;36mfit\u001b[1;34m(self, x, y, batch_size, epochs, verbose, callbacks, validation_split, validation_data, shuffle, class_weight, sample_weight, initial_epoch, steps_per_epoch, validation_steps, **kwargs)\u001b[0m\n\u001b[0;32m    948\u001b[0m             \u001b[0msample_weight\u001b[0m\u001b[1;33m=\u001b[0m\u001b[0msample_weight\u001b[0m\u001b[1;33m,\u001b[0m\u001b[1;33m\u001b[0m\u001b[1;33m\u001b[0m\u001b[0m\n\u001b[0;32m    949\u001b[0m             \u001b[0mclass_weight\u001b[0m\u001b[1;33m=\u001b[0m\u001b[0mclass_weight\u001b[0m\u001b[1;33m,\u001b[0m\u001b[1;33m\u001b[0m\u001b[1;33m\u001b[0m\u001b[0m\n\u001b[1;32m--> 950\u001b[1;33m             batch_size=batch_size)\n\u001b[0m\u001b[0;32m    951\u001b[0m         \u001b[1;31m# Prepare validation data.\u001b[0m\u001b[1;33m\u001b[0m\u001b[1;33m\u001b[0m\u001b[1;33m\u001b[0m\u001b[0m\n\u001b[0;32m    952\u001b[0m         \u001b[0mdo_validation\u001b[0m \u001b[1;33m=\u001b[0m \u001b[1;32mFalse\u001b[0m\u001b[1;33m\u001b[0m\u001b[1;33m\u001b[0m\u001b[0m\n",
      "\u001b[1;32m~\\Anaconda3\\envs\\AdvanceCV\\lib\\site-packages\\keras\\engine\\training.py\u001b[0m in \u001b[0;36m_standardize_user_data\u001b[1;34m(self, x, y, sample_weight, class_weight, check_array_lengths, batch_size)\u001b[0m\n\u001b[0;32m    785\u001b[0m                 \u001b[0mfeed_output_shapes\u001b[0m\u001b[1;33m,\u001b[0m\u001b[1;33m\u001b[0m\u001b[1;33m\u001b[0m\u001b[0m\n\u001b[0;32m    786\u001b[0m                 \u001b[0mcheck_batch_axis\u001b[0m\u001b[1;33m=\u001b[0m\u001b[1;32mFalse\u001b[0m\u001b[1;33m,\u001b[0m  \u001b[1;31m# Don't enforce the batch size.\u001b[0m\u001b[1;33m\u001b[0m\u001b[1;33m\u001b[0m\u001b[0m\n\u001b[1;32m--> 787\u001b[1;33m                 exception_prefix='target')\n\u001b[0m\u001b[0;32m    788\u001b[0m \u001b[1;33m\u001b[0m\u001b[0m\n\u001b[0;32m    789\u001b[0m             \u001b[1;31m# Generate sample-wise weight values given the `sample_weight` and\u001b[0m\u001b[1;33m\u001b[0m\u001b[1;33m\u001b[0m\u001b[1;33m\u001b[0m\u001b[0m\n",
      "\u001b[1;32m~\\Anaconda3\\envs\\AdvanceCV\\lib\\site-packages\\keras\\engine\\training_utils.py\u001b[0m in \u001b[0;36mstandardize_input_data\u001b[1;34m(data, names, shapes, check_batch_axis, exception_prefix)\u001b[0m\n\u001b[0;32m    135\u001b[0m                             \u001b[1;34m': expected '\u001b[0m \u001b[1;33m+\u001b[0m \u001b[0mnames\u001b[0m\u001b[1;33m[\u001b[0m\u001b[0mi\u001b[0m\u001b[1;33m]\u001b[0m \u001b[1;33m+\u001b[0m \u001b[1;34m' to have shape '\u001b[0m \u001b[1;33m+\u001b[0m\u001b[1;33m\u001b[0m\u001b[1;33m\u001b[0m\u001b[0m\n\u001b[0;32m    136\u001b[0m                             \u001b[0mstr\u001b[0m\u001b[1;33m(\u001b[0m\u001b[0mshape\u001b[0m\u001b[1;33m)\u001b[0m \u001b[1;33m+\u001b[0m \u001b[1;34m' but got array with shape '\u001b[0m \u001b[1;33m+\u001b[0m\u001b[1;33m\u001b[0m\u001b[1;33m\u001b[0m\u001b[0m\n\u001b[1;32m--> 137\u001b[1;33m                             str(data_shape))\n\u001b[0m\u001b[0;32m    138\u001b[0m     \u001b[1;32mreturn\u001b[0m \u001b[0mdata\u001b[0m\u001b[1;33m\u001b[0m\u001b[1;33m\u001b[0m\u001b[0m\n\u001b[0;32m    139\u001b[0m \u001b[1;33m\u001b[0m\u001b[0m\n",
      "\u001b[1;31mValueError\u001b[0m: Error when checking target: expected dense_36 to have shape (20,) but got array with shape (21,)"
     ]
    }
   ],
   "source": [
    "# config\n",
    "batch_size = 128\n",
    "num_classes = 21\n",
    "epochs = 2\n",
    "\n",
    "# input image dimensions\n",
    "img_rows, img_cols ,channel = 224, 224 , 3\n",
    "\n",
    "\n",
    "# convert class vectors to binary class matrices\n",
    "y_train = keras.utils.np_utils.to_categorical(y_train, num_classes)\n",
    "y_test = keras.utils.np_utils.to_categorical(y_test, num_classes)\n",
    "\n",
    "\n",
    "model = Sequential()\n",
    "model.add(Conv2D(filters=6, kernel_size=(3,3),strides=1,padding='same',activation='relu',input_shape=(224,224,3)))\n",
    "model.add(MaxPooling2D(pool_size=(2,2), strides=2, padding=\"same\"))\n",
    "model.add(Conv2D(filters=20, kernel_size=(3,3),strides=1,activation='relu'))\n",
    "model.add(MaxPooling2D(pool_size=(2,2), strides=2, padding=\"same\"))\n",
    "model.add(Conv2D(filters=9, kernel_size=(1,1),strides=1,padding='same',activation='relu'))\n",
    "model.add(MaxPooling2D(pool_size=(5,5), strides=5, padding=\"same\"))\n",
    "model.add(Flatten())\n",
    "model.add(Dense(1089,activation='relu'))\n",
    "model.add(Dense(400,activation='relu'))\n",
    "model.add(Dense(20,activation='softmax'))\n",
    "\n",
    "model.summary()\n",
    "\n",
    "model.compile(loss=keras.losses.categorical_crossentropy,optimizer=keras.optimizers.Adadelta(),metrics=['accuracy'])\n",
    "\n",
    "model.fit(x_train, y_train,batch_size=batch_size,epochs=epochs,verbose=1,validation_data=(x_test, y_test))\n",
    "score = model.evaluate(x_test, y_test, verbose=0)\n",
    "print('Test loss:', score[0])\n",
    "print('Test accuracy:', score[1])"
   ]
  },
  {
   "cell_type": "markdown",
   "metadata": {},
   "source": [
    "# Garbage Code"
   ]
  },
  {
   "cell_type": "code",
   "execution_count": null,
   "metadata": {},
   "outputs": [],
   "source": [
    "# X_TEST_DATA = []\n",
    "# Y_TEST_DATA = []\n",
    "\n",
    "# input_folder_test = './ResizedImg/test'\n",
    "# for classes in os.listdir(input_folder):\n",
    "#     imagePath = input_folder+'/'+classes\n",
    "#     for images in os.listdir(imagePath):\n",
    "#         im = Image.open(imagePath+'/'+images)\n",
    "#         imgMat = np.array(im)\n",
    "#         X_TEST_DATA.append(imgMat)\n",
    "#         Y_TEST_DATA.append(classes)\n",
    "\n",
    "# X_TRAIN_DATA = []\n",
    "# Y_TRAIN_DATA = []\n",
    "\n",
    "# input_folder_test = './ResizedImg/train'\n",
    "# for classes in os.listdir(input_folder):\n",
    "#     imagePath = input_folder+'/'+classes\n",
    "#     for images in os.listdir(imagePath):\n",
    "#         im = Image.open(imagePath+'/'+images)\n",
    "#         imgMat = np.array(im)\n",
    "#         X_TRAIN_DATA.append(imgMat)\n",
    "#         Y_TRAIN_DATA.append(classes)\n",
    "\n",
    "# x_train_w = []\n",
    "# y_train_w = []\n",
    "# x_test_w = []\n",
    "# y_test_w = []\n",
    "\n",
    "# for img in x_train:\n",
    "#     try:\n",
    "#         if img.shape == (224,224,3):\n",
    "#             x_train_w.append(np.array(img))\n",
    "#         else:\n",
    "#             print('wrong',img.shape)\n",
    "#     except:\n",
    "#         print('LOL')\n",
    "\n",
    "# for img in y_train:\n",
    "#     try:\n",
    "#         if img.shape == (224,224,3):\n",
    "#             y_train_w.append(np.array(img))\n",
    "#         else:\n",
    "#             print('wrong',img.shape)\n",
    "#     except:\n",
    "#         print('LOL')\n",
    "\n",
    "# for img in x_test:\n",
    "#     try:\n",
    "#         if img.shape == (224,224,3):\n",
    "#             x_test_w.append(np.array(img))\n",
    "#         else:\n",
    "#             print('wrong',img.shape)\n",
    "#     except:\n",
    "#         print('LOL')\n",
    "\n",
    "# for img in y_test:\n",
    "#     try:\n",
    "#         if img.shape == (224,224,3):\n",
    "#             y_test_w.append(np.array(img))\n",
    "#         else:\n",
    "#             print('wrong',img.shape)\n",
    "#     except:\n",
    "#         print('LOL')\n",
    "\n",
    "# x_train = np.array(x_train_w, dtype=np.float32)\n",
    "# y_train = np.array(y_train_w, dtype=np.float32)\n",
    "# x_test  = np.array(x_test_w, dtype=np.float32)\n",
    "# y_test  = np.array(y_test_w, dtype=np.float32)\n",
    "\n",
    "# img = Image.fromarray(np.array(X_train[0]))\n",
    "# img\n",
    "\n",
    "\n",
    "# model.add(Conv2D(64, (3, 3), activation='relu'))\n",
    "# model.add(MaxPooling2D(pool_size=(2, 2)))\n",
    "# model.add(Dropout(0.25))\n",
    "# model.add(Flatten())\n",
    "# model.add(Dense(128, activation='relu'))\n",
    "# model.add(Dropout(0.5))\n",
    "# model.add(Dense(num_classes, activation='softmax'))\n",
    "\n",
    "\n",
    "\n",
    "\n",
    "# the data, split between train and test sets\n",
    "# (x_train, y_train), (x_test, y_test) = mnist.load_data()\n",
    "# print(x_train[0])\n",
    "# print(len(x_train[0]))\n",
    "# im = Image.open(x_train[0])\n",
    "# im.show()\n",
    "# print('before changing')\n",
    "# print('x_train shape:', x_train.shape)\n",
    "# print(x_train.shape[0], 'train samples')\n",
    "# print(x_test.shape[0], 'test samples')\n",
    "\n",
    "\n",
    "# if K.image_data_format() == 'channels_first':\n",
    "#     x_train = x_train.reshape(x_train.shape[0], 1, img_rows, img_cols)\n",
    "#     x_test = x_test.reshape(x_test.shape[0], 1, img_rows, img_cols)\n",
    "#     input_shape = (1, img_rows, img_cols)\n",
    "#     print(\"hola\")\n",
    "# else:\n",
    "#     print(\"hola8\")\n",
    "#     x_train = x_train.reshape(x_train.shape[0], img_rows, img_cols, 1)\n",
    "#     x_test = x_test.reshape(x_test.shape[0], img_rows, img_cols, 1)\n",
    "#     input_shape = (img_rows, img_cols, 1)\n",
    "\n",
    "# print(x_train[0])\n",
    "# print(len(x_train[0][0][0]))\n",
    "# print(x_train[0].shape)\n",
    "# print(np.zeros((3,3,1)))\n",
    "\n",
    "# im1 = Image.open(\"b.jpeg\").convert('LA')\n",
    "# im1 = Image.open(\"b.jpeg\")\n",
    "# im2=ImageOps.grayscale(im1)\n",
    "# Arr1 = np.array(im1)\n",
    "# Arr2 = np.array(im2)\n",
    "# print('shape of image is',Arr.shape,' value are ',Arr[0][0])\n",
    "# Arr.show()\n",
    "# img = Image.fromarray(Arr)\n",
    "# img.show()    \n",
    "\n",
    "# print(x_train[0].type)\n"
   ]
  },
  {
   "cell_type": "code",
   "execution_count": 63,
   "metadata": {},
   "outputs": [
    {
     "data": {
      "text/plain": [
       "array([[0.67423311, 0.0430721 ],\n",
       "       [0.57733056, 0.40607748],\n",
       "       [0.16510067, 0.72085671],\n",
       "       [0.56879062, 0.70950606],\n",
       "       [0.6532192 , 0.54556054],\n",
       "       [0.88227646, 0.6845853 ],\n",
       "       [0.45780046, 0.50631469],\n",
       "       [0.34744537, 0.40783336],\n",
       "       [0.21499988, 0.44303972],\n",
       "       [0.0415734 , 0.76062591]])"
      ]
     },
     "execution_count": 63,
     "metadata": {},
     "output_type": "execute_result"
    }
   ],
   "source": [
    "np.random.random((10,2))"
   ]
  },
  {
   "cell_type": "code",
   "execution_count": 66,
   "metadata": {},
   "outputs": [],
   "source": [
    " keras.utils.np_utils.to_categorical?"
   ]
  },
  {
   "cell_type": "code",
   "execution_count": null,
   "metadata": {},
   "outputs": [],
   "source": []
  }
 ],
 "metadata": {
  "kernelspec": {
   "display_name": "Python 3",
   "language": "python",
   "name": "python3"
  },
  "language_info": {
   "codemirror_mode": {
    "name": "ipython",
    "version": 3
   },
   "file_extension": ".py",
   "mimetype": "text/x-python",
   "name": "python",
   "nbconvert_exporter": "python",
   "pygments_lexer": "ipython3",
   "version": "3.6.8"
  }
 },
 "nbformat": 4,
 "nbformat_minor": 2
}
